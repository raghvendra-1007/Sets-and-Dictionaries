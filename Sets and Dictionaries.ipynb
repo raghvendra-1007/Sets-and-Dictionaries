{
 "cells": [
  {
   "cell_type": "markdown",
   "id": "9ac2bc37-beb5-4a99-bb09-fe636188902c",
   "metadata": {},
   "source": [
    "**Question-1** \n",
    "\n",
    "Given a list of email addresses with duplicates, write a Python script to remove duplicates and store the unique emails in a new list.\n",
    "\n",
    "email_list = [\n",
    "    \"alice@example.com\", \"bob@example.com\", \"alice@example.com\",\n",
    "    \"charlie@example.com\", \"bob@example.com\", \"david@example.com\"\n",
    "]\n"
   ]
  },
  {
   "cell_type": "code",
   "execution_count": 22,
   "id": "978501c3-8a24-4fd6-affc-60c8bc2779ed",
   "metadata": {},
   "outputs": [
    {
     "name": "stdout",
     "output_type": "stream",
     "text": [
      "email list -  ['alice@example.com', 'bob@example.com', 'alice@example.com', 'charlie@example.com', 'bob@example.com', 'david@example.com']\n",
      "new list -  {'david@example.com', 'bob@example.com', 'alice@example.com', 'charlie@example.com'}\n"
     ]
    }
   ],
   "source": [
    "email_list = [\n",
    "    \"alice@example.com\", \"bob@example.com\", \"alice@example.com\",\n",
    "    \"charlie@example.com\", \"bob@example.com\", \"david@example.com\"\n",
    "]\n",
    "\n",
    "print(\"email list - \",email_list)\n",
    "new_list = set(email_list)\n",
    "print(\"new list - \",new_list)"
   ]
  },
  {
   "cell_type": "markdown",
   "id": "05c689b5-f936-4c83-a2fe-b7d38c323885",
   "metadata": {},
   "source": [
    "**Question-2** \n",
    "\n",
    "Given a list of employees and their monthly salaries in tuples, create a dictionary to store the total salary paid to each employee over multiple months.\n",
    "\n",
    "salary_data = [\n",
    "    (\"Alice\", 50000), (\"Bob\", 60000), (\"Alice\", 52000),\n",
    "    (\"Charlie\", 70000), (\"Bob\", 62000), (\"Charlie\", 71000)\n",
    "]\n"
   ]
  },
  {
   "cell_type": "code",
   "execution_count": 36,
   "id": "4e0d784a-9bea-4442-8cc7-4fce7c109aa5",
   "metadata": {},
   "outputs": [
    {
     "name": "stdout",
     "output_type": "stream",
     "text": [
      "updated salary data - {'Alice': 102000, 'Bob': 122000, 'Charlie': 141000}\n"
     ]
    }
   ],
   "source": [
    "salary_data = [\n",
    "    (\"Alice\", 50000), (\"Bob\", 60000), (\"Alice\", 52000),\n",
    "    (\"Charlie\", 70000), (\"Bob\", 62000), (\"Charlie\", 71000)\n",
    "]\n",
    "\n",
    "temp_data = {}\n",
    "for name,salary in salary_data:\n",
    "    if name in temp_data:\n",
    "        temp_data[name]+=salary\n",
    "    else:\n",
    "        temp_data[name]=salary\n",
    "print(f\"updated salary data - {temp_data}\")"
   ]
  },
  {
   "cell_type": "markdown",
   "id": "af0729c0-9c70-456d-8fd1-063a572357e4",
   "metadata": {},
   "source": [
    "**Question-3** \n",
    "\n",
    "You have a dictionary mapping product names to unique numerical IDs.\n",
    "\n",
    "Given a list of product orders (each containing a product name), update the list to include the corresponding product ID.\n",
    "\n",
    "product_mapping = {\n",
    "    \"Laptop\": 101,\n",
    "    \"Smartphone\": 102,\n",
    "    \"Tablet\": 103,\n",
    "    \"Headphones\": 104\n",
    "}\n",
    "\n",
    "orders = [\n",
    "    {\"customer\": \"Alice\", \"product\": \"Laptop\"},\n",
    "    {\"customer\": \"Bob\", \"product\": \"Smartphone\"},\n",
    "    {\"customer\": \"Charlie\", \"product\": \"Tablet\"}\n",
    "]\n"
   ]
  },
  {
   "cell_type": "code",
   "execution_count": 40,
   "id": "fd8904c2-3218-4a27-abd9-b54cc9c09869",
   "metadata": {},
   "outputs": [
    {
     "name": "stdout",
     "output_type": "stream",
     "text": [
      "[{'customer': 'Alice', 'product': 'Laptop', 'product_id': 101}, {'customer': 'Bob', 'product': 'Smartphone', 'product_id': 102}, {'customer': 'Charlie', 'product': 'Tablet', 'product_id': 103}]\n"
     ]
    }
   ],
   "source": [
    "product_mapping = {\n",
    "    \"Laptop\": 101,\n",
    "    \"Smartphone\": 102,\n",
    "    \"Tablet\": 103,\n",
    "    \"Headphones\": 104\n",
    "}\n",
    "\n",
    "orders = [\n",
    "    {\"customer\": \"Alice\", \"product\": \"Laptop\"},\n",
    "    {\"customer\": \"Bob\", \"product\": \"Smartphone\"},\n",
    "    {\"customer\": \"Charlie\", \"product\": \"Tablet\"}\n",
    "]\n",
    "\n",
    "for customer in orders:\n",
    "    customer[\"product_id\"]=product_mapping[customer[\"product\"]]\n",
    "print(orders)"
   ]
  },
  {
   "cell_type": "markdown",
   "id": "2eb7b0f1-2ee3-45a9-adb8-c6a1ee477fd9",
   "metadata": {},
   "source": [
    "**Question-4** \n",
    "\n",
    "Define a dictionary representing the schema of a student database, with fields like Student_ID, Name, Age, and GPA. \n",
    "\n",
    "Given a sample student record, validate whether the data types match the expected schema.\n",
    "\n",
    "student_schema = {\n",
    "    \"Student_ID\": \"Integer\",\n",
    "    \"Name\": \"String\",\n",
    "    \"Age\": \"Integer\",\n",
    "    \"GPA\": \"Float\"\n",
    "}\n",
    "\n",
    "student_record = {\n",
    "    \"Student_ID\": 201,\n",
    "    \"Name\": \"John Doe\",\n",
    "    \"Age\": 21,\n",
    "    \"GPA\": 3.8\n",
    "}\n"
   ]
  },
  {
   "cell_type": "code",
   "execution_count": null,
   "id": "be4185e7-a596-4c4f-94fd-27e69ecfdee7",
   "metadata": {},
   "outputs": [],
   "source": []
  },
  {
   "cell_type": "markdown",
   "id": "26da1c2e-bd43-4e96-b21c-f78613e9b7b7",
   "metadata": {},
   "source": [
    "**Question-5** \n",
    "\n",
    "Given a dictionary containing department names as keys and their revenue as values, use Matplotlib to generate a bar chart showing the revenue distribution.\n",
    "\n",
    "department_revenue = {\n",
    "    \"Electronics\": 500000,\n",
    "    \"Clothing\": 300000,\n",
    "    \"Grocery\": 400000,\n",
    "    \"Furniture\": 350000,\n",
    "    \"Toys\": 200000\n",
    "}\n"
   ]
  },
  {
   "cell_type": "code",
   "execution_count": 52,
   "id": "1da947c9-3e86-4f54-8728-3344be870dad",
   "metadata": {},
   "outputs": [
    {
     "data": {
      "text/plain": [
       "[]"
      ]
     },
     "execution_count": 52,
     "metadata": {},
     "output_type": "execute_result"
    },
    {
     "data": {
      "image/png": "[encoded data removed]",
      "text/plain": [
       "<Figure size 640x480 with 1 Axes>"
      ]
     },
     "metadata": {},
     "output_type": "display_data"
    }
   ],
   "source": [
    "department_revenue = {\n",
    "    \"Electronics\": 500000,\n",
    "    \"Clothing\": 300000,\n",
    "    \"Grocery\": 400000,\n",
    "    \"Furniture\": 350000,\n",
    "    \"Toys\": 200000\n",
    "}\n",
    "\n",
    "import matplotlib.pyplot as plt\n",
    "department=list(department_revenue.keys())\n",
    "revenue=list(department_revenue.values())\n",
    "plt.bar(department,revenue,color=\"black\")\n",
    "plt.xlabel(\"department\")\n",
    "plt.ylabel(\"revenue\")\n",
    "plt.title(\"department_revenue\")\n",
    "plt.plot()"
   ]
  },
  {
   "cell_type": "markdown",
   "id": "d4bf6de7-40d5-4c32-83d3-959e7b4089fd",
   "metadata": {},
   "source": [
    "**Question-6** \n",
    "\n",
    "Given a list of product sales (each as a tuple containing product name and quantity sold), use a dictionary to track the total quantity sold for each product.\n",
    "                                                                                                                                            \n",
    "sales_data = [\n",
    "    (\"Laptop\", 5),\n",
    "    (\"Smartphone\", 8),\n",
    "    (\"Tablet\", 3),\n",
    "    (\"Laptop\", 2),\n",
    "    (\"Smartphone\", 4),\n",
    "    (\"Headphones\", 10)\n",
    "]\n"
   ]
  },
  {
   "cell_type": "code",
   "execution_count": 61,
   "id": "02a83221-055b-4c4a-b052-8fc55205bfc7",
   "metadata": {},
   "outputs": [
    {
     "name": "stdout",
     "output_type": "stream",
     "text": [
      "cleaned data - {'Laptop': 7, 'Smartphone': 12, 'Tablet': 3, 'Headphones': 10}\n"
     ]
    }
   ],
   "source": [
    "sales_data = [\n",
    "    (\"Laptop\", 5),\n",
    "    (\"Smartphone\", 8),\n",
    "    (\"Tablet\", 3),\n",
    "    (\"Laptop\", 2),\n",
    "    (\"Smartphone\", 4),\n",
    "    (\"Headphones\", 10)\n",
    "]\n",
    "\n",
    "data={}\n",
    "for product,quantity in sales_data:\n",
    "    if product in data:\n",
    "        data[product]+=quantity\n",
    "    else:\n",
    "        data[product]=quantity\n",
    "print(f\"cleaned data - {data}\")\n"
   ]
  },
  {
   "cell_type": "markdown",
   "id": "dadbfa61-1b9b-4397-a756-ab64a84631e5",
   "metadata": {},
   "source": [
    "**Question-7** \n",
    "\n",
    "Given a dictionary mapping department names to numerical codes, update a list of employee records by adding the corresponding department code to each record.\n",
    "\n",
    "department_mapping = {\n",
    "    \"HR\": 1,\n",
    "    \"Engineering\": 2,\n",
    "    \"Marketing\": 3,\n",
    "    \"Sales\": 4\n",
    "}\n",
    "\n",
    "employees = [\n",
    "    {\"name\": \"Alice\", \"department\": \"HR\"},\n",
    "    {\"name\": \"Bob\", \"department\": \"Engineering\"},\n",
    "    {\"name\": \"Charlie\", \"department\": \"Marketing\"}\n",
    "]\n"
   ]
  },
  {
   "cell_type": "code",
   "execution_count": 71,
   "id": "6ef29783-c666-4ea2-911b-6be6c6c2624a",
   "metadata": {},
   "outputs": [
    {
     "name": "stdout",
     "output_type": "stream",
     "text": [
      "final employee list - [{'name': 'Alice', 'department': 'HR', 'code_id': 1}, {'name': 'Bob', 'department': 'Engineering', 'code_id': 2}, {'name': 'Charlie', 'department': 'Marketing', 'code_id': 3}]\n"
     ]
    }
   ],
   "source": [
    "department_mapping = {\n",
    "    \"HR\": 1,\n",
    "    \"Engineering\": 2,\n",
    "    \"Marketing\": 3,\n",
    "    \"Sales\": 4\n",
    "}\n",
    "\n",
    "employees = [\n",
    "    {\"name\": \"Alice\", \"department\": \"HR\"},\n",
    "    {\"name\": \"Bob\", \"department\": \"Engineering\"},\n",
    "    {\"name\": \"Charlie\", \"department\": \"Marketing\"}\n",
    "]\n",
    "\n",
    "for employee in employees:\n",
    "    employee[\"code_id\"]=department_mapping[employee[\"department\"]]\n",
    "print(f\"final employee list - {employees}\")"
   ]
  },
  {
   "cell_type": "markdown",
   "id": "5c808789-b357-444d-8c0f-6925e47b7ae9",
   "metadata": {},
   "source": [
    "**Question-8** \n",
    "\n",
    "Given a list of tuples where each tuple contains a movie name and a user rating, create a dictionary that stores the average rating of each movie.\n",
    "\n",
    "movie_ratings = [\n",
    "    (\"Inception\", 4.5),\n",
    "    (\"Interstellar\", 4.8),\n",
    "    (\"Inception\", 4.7),\n",
    "    (\"Tenet\", 4.2),\n",
    "    (\"Interstellar\", 4.9),\n",
    "    (\"Tenet\", 4.3)\n",
    "]\n"
   ]
  },
  {
   "cell_type": "code",
   "execution_count": null,
   "id": "2e0fba5e-6d0f-4bb6-957c-870bee2b5fcc",
   "metadata": {},
   "outputs": [],
   "source": [
    "movie_ratings = [\n",
    "    (\"Inception\", 4.5),\n",
    "    (\"Interstellar\", 4.8),\n",
    "    (\"Inception\", 4.7),\n",
    "    (\"Tenet\", 4.2),\n",
    "    (\"Interstellar\", 4.9),\n",
    "    (\"Tenet\", 4.3)\n",
    "]\n",
    "\n",
    "rating={}\n",
    "for movie in movie_ratings:\n",
    "    if movie in rating:\n",
    "        rating+=movie\n",
    "    else:\n",
    "        rating=movie"
   ]
  },
  {
   "cell_type": "markdown",
   "id": "057aae28-3e0b-48b0-ba32-3f3f8b1fa4bb",
   "metadata": {},
   "source": [
    "**Question-9** \n",
    "\n",
    "Define a dictionary containing the eligibility criteria for a loan application (e.g., Minimum Salary, Credit Score). \n",
    "\n",
    "Given a sample loan applicant's data, check whether they meet the eligibility criteria.\n",
    "\n",
    "loan_criteria = {\n",
    "    \"Minimum Salary\": 30000,\n",
    "    \"Credit Score\": 700\n",
    "}\n",
    "\n",
    "applicant_data = {\n",
    "    \"Name\": \"David\",\n",
    "    \"Salary\": 35000,\n",
    "    \"Credit Score\": 720\n",
    "}\n"
   ]
  },
  {
   "cell_type": "code",
   "execution_count": 127,
   "id": "65480e91-637e-459d-aede-6d8eb137b7ef",
   "metadata": {},
   "outputs": [
    {
     "name": "stdout",
     "output_type": "stream",
     "text": [
      "Eligible\n"
     ]
    }
   ],
   "source": [
    "loan_criteria = {\n",
    "    \"Minimum Salary\": 30000,\n",
    "    \"Credit Score\": 700\n",
    "}\n",
    "\n",
    "applicant_data = {\n",
    "    \"Name\": \"David\",\n",
    "    \"Salary\": 35000,\n",
    "    \"Credit Score\": 720\n",
    "}\n",
    "\n",
    "if applicant_data[\"Salary\"]>=loan_criteria[\"Minimum Salary\"]and applicant_data[\"Credit Score\"]>=loan_criteria[\"Credit Score\"]:\n",
    "    print(\"Eligible\")\n",
    "else:\n",
    "    print(\"Not Eligible\")    "
   ]
  },
  {
   "cell_type": "markdown",
   "id": "8e5b357d-e34c-4777-8e79-70198284fd7e",
   "metadata": {},
   "source": [
    "**Question-10** \n",
    "\n",
    "Given a dictionary where expense categories are keys and their corresponding amounts are values, generate a pie chart to visualize the expense distribution using Matplotlib.\n",
    "\n",
    "expenses = {\n",
    "    \"Rent\": 20000,\n",
    "    \"Groceries\": 8000,\n",
    "    \"Transport\": 5000,\n",
    "    \"Entertainment\": 3000,\n",
    "    \"Utilities\": 4000\n",
    "}\n"
   ]
  },
  {
   "cell_type": "code",
   "execution_count": 111,
   "id": "c3f936e7-e6d8-41c1-89b5-d7304c53e719",
   "metadata": {},
   "outputs": [
    {
     "data": {
      "image/png": "[encoded data removed]",
      "text/plain": [
       "<Figure size 500x500 with 1 Axes>"
      ]
     },
     "metadata": {},
     "output_type": "display_data"
    }
   ],
   "source": [
    "expenses = {\n",
    "    \"Rent\": 20000,\n",
    "    \"Groceries\": 8000,\n",
    "    \"Transport\": 5000,\n",
    "    \"Entertainment\": 3000,\n",
    "    \"Utilities\": 4000\n",
    "}\n",
    "\n",
    "import matplotlib.pyplot as plt\n",
    "\n",
    "labels=list(expenses.keys())\n",
    "sizes=list(expenses.values())\n",
    "colors=(\"red\",\"pink\",\"yellow\",\"blue\",\"green\")\n",
    "explode=(0,0,0,0,0)\n",
    "\n",
    "plt.figure(figsize=(5,5))\n",
    "plt.pie(sizes,labels=labels,autopct=\"%1.2f%%\",colors=colors,explode=explode,startangle=140)\n",
    "\n",
    "plt.title(\"expenses\")\n",
    "\n",
    "plt.show()"
   ]
  }
 ],
 "metadata": {
  "kernelspec": {
   "display_name": "Python 3 (ipykernel)",
   "language": "python",
   "name": "python3"
  },
  "language_info": {
   "codemirror_mode": {
    "name": "ipython",
    "version": 3
   },
   "file_extension": ".py",
   "mimetype": "text/x-python",
   "name": "python",
   "nbconvert_exporter": "python",
   "pygments_lexer": "ipython3",
   "version": "3.12.7"
  }
 },
 "nbformat": 4,
 "nbformat_minor": 5
}
